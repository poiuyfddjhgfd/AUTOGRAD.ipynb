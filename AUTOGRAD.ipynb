{
  "nbformat": 4,
  "nbformat_minor": 0,
  "metadata": {
    "colab": {
      "provenance": []
    },
    "kernelspec": {
      "name": "python3",
      "display_name": "Python 3"
    },
    "language_info": {
      "name": "python"
    }
  },
  "cells": [
    {
      "cell_type": "code",
      "execution_count": null,
      "metadata": {
        "id": "-F3FvGeCXnLP"
      },
      "outputs": [],
      "source": [
        "import torch"
      ]
    },
    {
      "cell_type": "code",
      "source": [
        "x=torch.tensor(3.0,requires_grad=True)"
      ],
      "metadata": {
        "id": "8Il5Tai9cMWH"
      },
      "execution_count": null,
      "outputs": []
    },
    {
      "cell_type": "code",
      "source": [
        "y=x**2\n",
        "y"
      ],
      "metadata": {
        "colab": {
          "base_uri": "https://localhost:8080/"
        },
        "id": "kUth-xFccMZH",
        "outputId": "78e377ce-6ef3-4c9e-9b2b-b67423e50616"
      },
      "execution_count": null,
      "outputs": [
        {
          "output_type": "execute_result",
          "data": {
            "text/plain": [
              "tensor(9., grad_fn=<PowBackward0>)"
            ]
          },
          "metadata": {},
          "execution_count": 74
        }
      ]
    },
    {
      "cell_type": "code",
      "source": [
        "x"
      ],
      "metadata": {
        "colab": {
          "base_uri": "https://localhost:8080/"
        },
        "id": "WYicqSovcMbe",
        "outputId": "0bddfc93-f0e5-4ae8-bc62-a4fedf97c557"
      },
      "execution_count": null,
      "outputs": [
        {
          "output_type": "execute_result",
          "data": {
            "text/plain": [
              "tensor(3., requires_grad=True)"
            ]
          },
          "metadata": {},
          "execution_count": 75
        }
      ]
    },
    {
      "cell_type": "code",
      "source": [
        "y.backward()"
      ],
      "metadata": {
        "id": "Xs6YJbXccMcq"
      },
      "execution_count": null,
      "outputs": []
    },
    {
      "cell_type": "code",
      "source": [
        "x.grad"
      ],
      "metadata": {
        "colab": {
          "base_uri": "https://localhost:8080/"
        },
        "id": "-FLwvQgDcMd1",
        "outputId": "0c0a3679-2a1b-46e9-fcb5-253305090be4"
      },
      "execution_count": null,
      "outputs": [
        {
          "output_type": "execute_result",
          "data": {
            "text/plain": [
              "tensor(6.)"
            ]
          },
          "metadata": {},
          "execution_count": 77
        }
      ]
    },
    {
      "cell_type": "code",
      "source": [
        "x=torch.tensor(3.0,requires_grad=True)"
      ],
      "metadata": {
        "id": "BzDahG0rcMf5"
      },
      "execution_count": null,
      "outputs": []
    },
    {
      "cell_type": "code",
      "source": [
        "y=x**2"
      ],
      "metadata": {
        "id": "hOKPvtIIcMh1"
      },
      "execution_count": null,
      "outputs": []
    },
    {
      "cell_type": "code",
      "source": [
        "z=torch.sin(y)"
      ],
      "metadata": {
        "id": "rJh8WyqocMjy"
      },
      "execution_count": null,
      "outputs": []
    },
    {
      "cell_type": "code",
      "source": [
        "z"
      ],
      "metadata": {
        "colab": {
          "base_uri": "https://localhost:8080/"
        },
        "id": "12zbW8qgcMl5",
        "outputId": "8fb86bbf-5c69-408e-d728-dab04397074d"
      },
      "execution_count": null,
      "outputs": [
        {
          "output_type": "execute_result",
          "data": {
            "text/plain": [
              "tensor(0.4121, grad_fn=<SinBackward0>)"
            ]
          },
          "metadata": {},
          "execution_count": 81
        }
      ]
    },
    {
      "cell_type": "code",
      "source": [
        "y"
      ],
      "metadata": {
        "colab": {
          "base_uri": "https://localhost:8080/"
        },
        "id": "8UJd7U4ScMo5",
        "outputId": "fa749f9f-38f1-4c7c-e3c3-29c7c2aae312"
      },
      "execution_count": null,
      "outputs": [
        {
          "output_type": "execute_result",
          "data": {
            "text/plain": [
              "tensor(9., grad_fn=<PowBackward0>)"
            ]
          },
          "metadata": {},
          "execution_count": 82
        }
      ]
    },
    {
      "cell_type": "code",
      "source": [
        "x"
      ],
      "metadata": {
        "colab": {
          "base_uri": "https://localhost:8080/"
        },
        "id": "bJKGdTL-cMxf",
        "outputId": "baf1ccf5-fd87-4787-ccb5-6e8d210dc957"
      },
      "execution_count": null,
      "outputs": [
        {
          "output_type": "execute_result",
          "data": {
            "text/plain": [
              "tensor(3., requires_grad=True)"
            ]
          },
          "metadata": {},
          "execution_count": 83
        }
      ]
    },
    {
      "cell_type": "code",
      "source": [
        "z.backward()"
      ],
      "metadata": {
        "id": "7TBxZk98cM0G"
      },
      "execution_count": null,
      "outputs": []
    },
    {
      "cell_type": "code",
      "source": [
        "x.grad"
      ],
      "metadata": {
        "colab": {
          "base_uri": "https://localhost:8080/"
        },
        "id": "0uK3nIR_cM1y",
        "outputId": "6c98be69-4b8a-4b3c-8baf-8244070c9ba8"
      },
      "execution_count": null,
      "outputs": [
        {
          "output_type": "execute_result",
          "data": {
            "text/plain": [
              "tensor(-5.4668)"
            ]
          },
          "metadata": {},
          "execution_count": 85
        }
      ]
    },
    {
      "cell_type": "code",
      "source": [
        "#Input\n",
        "x=torch.tensor(6.7)#Input feature\n",
        "y=torch.tensor(0.0)#True label(binary)\n",
        "w=torch.tensor(1.0)#weight\n",
        "b=torch.tensor(1.0)#bias"
      ],
      "metadata": {
        "id": "FpRhQxPqcM3g"
      },
      "execution_count": null,
      "outputs": []
    },
    {
      "cell_type": "code",
      "source": [
        "#Binary Cross-Entropy Loss for Scaler\n",
        "def binary_cross_entropy_loss(prediction,target):\n",
        "  eplison=1e-8 #to prevent log(0)\n",
        "  pred_safe=torch.clamp(prediction,eplison,1-eplison)\n",
        "  return -(target*torch.log(pred_safe)+(1-target)*torch.log(1-pred_safe))"
      ],
      "metadata": {
        "id": "kQVDoRlrcM5x"
      },
      "execution_count": null,
      "outputs": []
    },
    {
      "cell_type": "markdown",
      "source": [],
      "metadata": {
        "id": "xEAbmeDN0_-q"
      }
    },
    {
      "cell_type": "code",
      "source": [
        "#forward pass\n",
        "z=w*x+b #weighted sum(linear part)\n",
        "y_pred=torch.sigmoid(z) #predicted probability\n",
        "#compute binary_cross_entropy_loss\n",
        "loss=binary_cross_entropy_loss(y_pred,y)"
      ],
      "metadata": {
        "id": "71D_798UcM7w"
      },
      "execution_count": null,
      "outputs": []
    },
    {
      "cell_type": "code",
      "source": [
        "loss"
      ],
      "metadata": {
        "id": "hMluIcsYcM-Q",
        "colab": {
          "base_uri": "https://localhost:8080/"
        },
        "outputId": "64f42b21-a73f-46f3-8094-672734819f97"
      },
      "execution_count": null,
      "outputs": [
        {
          "output_type": "execute_result",
          "data": {
            "text/plain": [
              "tensor(7.7003)"
            ]
          },
          "metadata": {},
          "execution_count": 89
        }
      ]
    },
    {
      "cell_type": "code",
      "source": [
        "#DERIVATIVE\n",
        "#1).DL/dl(y_pred):Loss with respect to y_pred\n",
        "dloss_dy_pred=(y_pred-y)/(y_pred*(1-y_pred))\n",
        "#2)dy_pred/dz:Prediction of y_pred with respwct to z(sigmoid)\n",
        "dy_pred_dz=y_pred*(1-y_pred)\n",
        "#3)dz/dw and dz/db:z with respect to w and b\n",
        "dz_dw=x  #dz/dw=x\n",
        "dz_db=1   #dz/db=1 (bias contributed directly to z)\n",
        "dl_dw=dloss_dy_pred*dy_pred_dz*dz_dw\n",
        "dl_db=dloss_dy_pred*dy_pred_dz*dz_db"
      ],
      "metadata": {
        "id": "HeXvuKRDcNAR"
      },
      "execution_count": null,
      "outputs": []
    },
    {
      "cell_type": "code",
      "source": [
        "print(f\"Manual gradient loss with respect to wieght:{dl_dw}\")\n",
        "print(f\"Manual gradient loss with rspect to bias:{dl_db}\")"
      ],
      "metadata": {
        "id": "Okm3TzKHcNDd",
        "colab": {
          "base_uri": "https://localhost:8080/"
        },
        "outputId": "4963e457-1b4b-45b8-b37d-ec3791199568"
      },
      "execution_count": null,
      "outputs": [
        {
          "output_type": "stream",
          "name": "stdout",
          "text": [
            "Manual gradient loss with respect to wieght:6.696966171264648\n",
            "Manual gradient loss with rspect to bias:0.9995472431182861\n"
          ]
        }
      ]
    },
    {
      "cell_type": "code",
      "source": [
        "#solving problem using AUTOGRAD\n",
        "x=torch.tensor(6.7)\n",
        "y=torch.tensor(0.0)"
      ],
      "metadata": {
        "id": "dpj_nxh7cNHv"
      },
      "execution_count": null,
      "outputs": []
    },
    {
      "cell_type": "code",
      "source": [
        "w=torch.tensor(1.0,requires_grad=True)\n",
        "b=torch.tensor(1.0,requires_grad=True)"
      ],
      "metadata": {
        "id": "n89OZftdcNKK"
      },
      "execution_count": null,
      "outputs": []
    },
    {
      "cell_type": "code",
      "source": [
        "w"
      ],
      "metadata": {
        "id": "4lPxjTvFcNMM",
        "colab": {
          "base_uri": "https://localhost:8080/"
        },
        "outputId": "0348a3e6-a2f8-46f8-adb7-63262fd7bfb4"
      },
      "execution_count": null,
      "outputs": [
        {
          "output_type": "execute_result",
          "data": {
            "text/plain": [
              "tensor(1., requires_grad=True)"
            ]
          },
          "metadata": {},
          "execution_count": 94
        }
      ]
    },
    {
      "cell_type": "code",
      "source": [
        "b"
      ],
      "metadata": {
        "id": "Zfl9JTBGcNN_",
        "colab": {
          "base_uri": "https://localhost:8080/"
        },
        "outputId": "f955ab76-a5dd-46a4-b3c2-3339e287e96d"
      },
      "execution_count": null,
      "outputs": [
        {
          "output_type": "execute_result",
          "data": {
            "text/plain": [
              "tensor(1., requires_grad=True)"
            ]
          },
          "metadata": {},
          "execution_count": 95
        }
      ]
    },
    {
      "cell_type": "code",
      "source": [
        "z=w*x+b\n",
        "z"
      ],
      "metadata": {
        "id": "iLYzQojscNQI",
        "colab": {
          "base_uri": "https://localhost:8080/"
        },
        "outputId": "dd0c639c-b439-4eb3-a4a5-154eee419391"
      },
      "execution_count": null,
      "outputs": [
        {
          "output_type": "execute_result",
          "data": {
            "text/plain": [
              "tensor(7.7000, grad_fn=<AddBackward0>)"
            ]
          },
          "metadata": {},
          "execution_count": 96
        }
      ]
    },
    {
      "cell_type": "code",
      "source": [
        "y_pred=torch.sigmoid(z)\n",
        "y_pred"
      ],
      "metadata": {
        "id": "HfHBNEMDcNSI",
        "colab": {
          "base_uri": "https://localhost:8080/"
        },
        "outputId": "3d14f224-199e-4da7-8e17-3f6002225b57"
      },
      "execution_count": null,
      "outputs": [
        {
          "output_type": "execute_result",
          "data": {
            "text/plain": [
              "tensor(0.9995, grad_fn=<SigmoidBackward0>)"
            ]
          },
          "metadata": {},
          "execution_count": 97
        }
      ]
    },
    {
      "cell_type": "code",
      "source": [
        "loss=binary_cross_entropy_loss(y_pred,y)\n",
        "loss"
      ],
      "metadata": {
        "id": "u4tBGT3gcNUV",
        "colab": {
          "base_uri": "https://localhost:8080/"
        },
        "outputId": "7a1b5a2e-ec72-4343-e939-978a81a88c41"
      },
      "execution_count": null,
      "outputs": [
        {
          "output_type": "execute_result",
          "data": {
            "text/plain": [
              "tensor(7.7003, grad_fn=<NegBackward0>)"
            ]
          },
          "metadata": {},
          "execution_count": 98
        }
      ]
    },
    {
      "cell_type": "code",
      "source": [
        "loss.backward()"
      ],
      "metadata": {
        "id": "CRRbYam4cNWb"
      },
      "execution_count": null,
      "outputs": []
    },
    {
      "cell_type": "code",
      "source": [
        "print(w.grad)\n",
        "print(b.grad)"
      ],
      "metadata": {
        "id": "vXKtQuzTcNaX",
        "colab": {
          "base_uri": "https://localhost:8080/"
        },
        "outputId": "da29a8ea-58f5-4480-ee3f-5dabab12b3cd"
      },
      "execution_count": null,
      "outputs": [
        {
          "output_type": "stream",
          "name": "stdout",
          "text": [
            "tensor(6.6970)\n",
            "tensor(0.9995)\n"
          ]
        }
      ]
    },
    {
      "cell_type": "markdown",
      "source": [
        "**Autograd using tensor**"
      ],
      "metadata": {
        "id": "MAhz4NCv1FQW"
      }
    },
    {
      "cell_type": "code",
      "source": [
        "x=torch.tensor([1.0,2.0,4.0],requires_grad=True)"
      ],
      "metadata": {
        "id": "f0OckZKHcNck"
      },
      "execution_count": null,
      "outputs": []
    },
    {
      "cell_type": "code",
      "source": [
        "x"
      ],
      "metadata": {
        "id": "22G-fTCOcNew",
        "colab": {
          "base_uri": "https://localhost:8080/"
        },
        "outputId": "8183de64-866e-42e5-a68a-2f6c8560b3c4"
      },
      "execution_count": null,
      "outputs": [
        {
          "output_type": "execute_result",
          "data": {
            "text/plain": [
              "tensor([1., 2., 4.], requires_grad=True)"
            ]
          },
          "metadata": {},
          "execution_count": 106
        }
      ]
    },
    {
      "cell_type": "code",
      "source": [
        "y=(x**2).mean()\n",
        "print(y)"
      ],
      "metadata": {
        "id": "QK6ZfSV3cNg8",
        "colab": {
          "base_uri": "https://localhost:8080/"
        },
        "outputId": "2329d895-9bac-4576-b76e-8d07517676dc"
      },
      "execution_count": null,
      "outputs": [
        {
          "output_type": "stream",
          "name": "stdout",
          "text": [
            "tensor(7., grad_fn=<MeanBackward0>)\n"
          ]
        }
      ]
    },
    {
      "cell_type": "code",
      "source": [
        "y.backward()"
      ],
      "metadata": {
        "id": "MTMtKfVscNi_"
      },
      "execution_count": null,
      "outputs": []
    },
    {
      "cell_type": "code",
      "source": [
        "x.grad"
      ],
      "metadata": {
        "id": "SU3-WWmpcNnD",
        "colab": {
          "base_uri": "https://localhost:8080/"
        },
        "outputId": "3f092fb5-4b97-408b-cbb9-dd2ee0bf09ad"
      },
      "execution_count": null,
      "outputs": [
        {
          "output_type": "execute_result",
          "data": {
            "text/plain": [
              "tensor([0.6667, 1.3333, 2.6667])"
            ]
          },
          "metadata": {},
          "execution_count": 114
        }
      ]
    },
    {
      "cell_type": "markdown",
      "source": [
        "**CLEARING GRAD**"
      ],
      "metadata": {
        "id": "xSa1xcGvIB3U"
      }
    },
    {
      "cell_type": "code",
      "source": [
        "x=torch.tensor(2.0,requires_grad=True)\n",
        "x"
      ],
      "metadata": {
        "id": "Oj1Nh4LScNpc",
        "colab": {
          "base_uri": "https://localhost:8080/"
        },
        "outputId": "ccc3bfe7-2ee1-4678-81dd-ce64e07a6017"
      },
      "execution_count": null,
      "outputs": [
        {
          "output_type": "execute_result",
          "data": {
            "text/plain": [
              "tensor(2., requires_grad=True)"
            ]
          },
          "metadata": {},
          "execution_count": 115
        }
      ]
    },
    {
      "cell_type": "code",
      "source": [
        "y=(x**2).mean()"
      ],
      "metadata": {
        "id": "_ohhwiKAcNsz"
      },
      "execution_count": null,
      "outputs": []
    },
    {
      "cell_type": "code",
      "source": [
        "y.backward()"
      ],
      "metadata": {
        "id": "IO9V6asTcNwV"
      },
      "execution_count": null,
      "outputs": []
    },
    {
      "cell_type": "code",
      "source": [
        "x.grad"
      ],
      "metadata": {
        "id": "wGEdj4fdcNyf",
        "colab": {
          "base_uri": "https://localhost:8080/"
        },
        "outputId": "35de8967-55ae-424b-cc0e-45df8ffeb207"
      },
      "execution_count": null,
      "outputs": [
        {
          "output_type": "execute_result",
          "data": {
            "text/plain": [
              "tensor(4.)"
            ]
          },
          "metadata": {},
          "execution_count": 121
        }
      ]
    },
    {
      "cell_type": "code",
      "source": [
        "x.grad.zero_\n"
      ],
      "metadata": {
        "id": "byBY7VX_cN0y",
        "colab": {
          "base_uri": "https://localhost:8080/"
        },
        "outputId": "3e35f016-1d0b-4a3d-c540-e354581884bb"
      },
      "execution_count": null,
      "outputs": [
        {
          "output_type": "execute_result",
          "data": {
            "text/plain": [
              "tensor(2., requires_grad=True)"
            ]
          },
          "metadata": {},
          "execution_count": 123
        }
      ]
    },
    {
      "cell_type": "markdown",
      "source": [
        "**Disable Gradient Tracking**"
      ],
      "metadata": {
        "id": "IPCoMddlJLn9"
      }
    },
    {
      "cell_type": "code",
      "source": [
        "x=torch.tensor(2.0,requires_grad=True)"
      ],
      "metadata": {
        "id": "atJQNfb3cN26"
      },
      "execution_count": null,
      "outputs": []
    },
    {
      "cell_type": "code",
      "source": [
        "y=x**2"
      ],
      "metadata": {
        "id": "JBDgkuyzcN5T"
      },
      "execution_count": null,
      "outputs": []
    },
    {
      "cell_type": "code",
      "source": [
        "y"
      ],
      "metadata": {
        "id": "FwjBJLFncN65",
        "colab": {
          "base_uri": "https://localhost:8080/"
        },
        "outputId": "0c3fdfd4-cc38-4ab8-9f55-6e96323ed59e"
      },
      "execution_count": null,
      "outputs": [
        {
          "output_type": "execute_result",
          "data": {
            "text/plain": [
              "tensor(4., grad_fn=<PowBackward0>)"
            ]
          },
          "metadata": {},
          "execution_count": 126
        }
      ]
    },
    {
      "cell_type": "code",
      "source": [
        "y.backward()"
      ],
      "metadata": {
        "id": "ope9UBzhcN9T"
      },
      "execution_count": null,
      "outputs": []
    },
    {
      "cell_type": "code",
      "source": [
        "x.grad"
      ],
      "metadata": {
        "id": "cxIw7XqKcN_j",
        "colab": {
          "base_uri": "https://localhost:8080/"
        },
        "outputId": "06f4d635-9140-4799-f2b2-0efe4e442e49"
      },
      "execution_count": null,
      "outputs": [
        {
          "output_type": "execute_result",
          "data": {
            "text/plain": [
              "tensor(4.)"
            ]
          },
          "metadata": {},
          "execution_count": 129
        }
      ]
    },
    {
      "cell_type": "code",
      "source": [
        "#1)requires_grad_(False)\n"
      ],
      "metadata": {
        "id": "2-Rw3RMMcOBz"
      },
      "execution_count": null,
      "outputs": []
    },
    {
      "cell_type": "code",
      "source": [
        "x.requires_grad_(False)"
      ],
      "metadata": {
        "id": "pWH7psuNcOEM",
        "colab": {
          "base_uri": "https://localhost:8080/"
        },
        "outputId": "8498db3c-8275-499b-bb87-f0f95c1cbb98"
      },
      "execution_count": null,
      "outputs": [
        {
          "output_type": "execute_result",
          "data": {
            "text/plain": [
              "tensor(2.)"
            ]
          },
          "metadata": {},
          "execution_count": 131
        }
      ]
    },
    {
      "cell_type": "code",
      "source": [
        "x"
      ],
      "metadata": {
        "id": "NWo6iBVHcOGf",
        "colab": {
          "base_uri": "https://localhost:8080/"
        },
        "outputId": "1be2f360-5fd9-4e4d-b1f4-98a7fa5691d2"
      },
      "execution_count": null,
      "outputs": [
        {
          "output_type": "execute_result",
          "data": {
            "text/plain": [
              "tensor(2.)"
            ]
          },
          "metadata": {},
          "execution_count": 132
        }
      ]
    },
    {
      "cell_type": "code",
      "source": [
        "y=x**2\n",
        "y"
      ],
      "metadata": {
        "id": "ANHZ8ASYcOIy",
        "colab": {
          "base_uri": "https://localhost:8080/"
        },
        "outputId": "74bb501f-d2db-4ab7-c08c-9637a519189c"
      },
      "execution_count": null,
      "outputs": [
        {
          "output_type": "execute_result",
          "data": {
            "text/plain": [
              "tensor(4.)"
            ]
          },
          "metadata": {},
          "execution_count": 134
        }
      ]
    },
    {
      "cell_type": "code",
      "source": [
        "#2)detach\n",
        "x=torch.tensor(2.0,requires_grad=True)"
      ],
      "metadata": {
        "id": "9rKpJ5CacOLI",
        "colab": {
          "base_uri": "https://localhost:8080/"
        },
        "outputId": "e7c5f5d8-91ef-438c-97ef-83a8b73216ab"
      },
      "execution_count": null,
      "outputs": [
        {
          "output_type": "execute_result",
          "data": {
            "text/plain": [
              "tensor(2.)"
            ]
          },
          "metadata": {},
          "execution_count": 135
        }
      ]
    },
    {
      "cell_type": "code",
      "source": [
        "y=x**2\n",
        "y"
      ],
      "metadata": {
        "id": "7WNXQMfvcONh",
        "colab": {
          "base_uri": "https://localhost:8080/"
        },
        "outputId": "5d300cbe-f7e1-441d-c846-e634ba1aa229"
      },
      "execution_count": null,
      "outputs": [
        {
          "output_type": "execute_result",
          "data": {
            "text/plain": [
              "tensor(4.)"
            ]
          },
          "metadata": {},
          "execution_count": 137
        }
      ]
    },
    {
      "cell_type": "code",
      "source": [
        "x.detach()"
      ],
      "metadata": {
        "id": "gQzbh2CqcOPp",
        "colab": {
          "base_uri": "https://localhost:8080/"
        },
        "outputId": "bf2a1c70-2538-4932-c6f9-897c74bc2d5e"
      },
      "execution_count": null,
      "outputs": [
        {
          "output_type": "execute_result",
          "data": {
            "text/plain": [
              "tensor(2.)"
            ]
          },
          "metadata": {},
          "execution_count": 139
        }
      ]
    },
    {
      "cell_type": "code",
      "source": [
        "#3)torch.no_grad()"
      ],
      "metadata": {
        "id": "fHIZXO0ocOSC"
      },
      "execution_count": null,
      "outputs": []
    },
    {
      "cell_type": "code",
      "source": [
        "x=torch.tensor(3.0 , requires_grad=True)"
      ],
      "metadata": {
        "id": "nmvFzSNxcOUi"
      },
      "execution_count": null,
      "outputs": []
    },
    {
      "cell_type": "code",
      "source": [
        "x"
      ],
      "metadata": {
        "id": "XuyYRNLtcOWv",
        "colab": {
          "base_uri": "https://localhost:8080/"
        },
        "outputId": "7ab5e453-a522-4dcd-ed5a-1a3a0ba978c1"
      },
      "execution_count": null,
      "outputs": [
        {
          "output_type": "execute_result",
          "data": {
            "text/plain": [
              "tensor(3., requires_grad=True)"
            ]
          },
          "metadata": {},
          "execution_count": 143
        }
      ]
    },
    {
      "cell_type": "code",
      "source": [
        "with torch.no_grad():\n",
        "  y=x**2\n",
        "  print(y)"
      ],
      "metadata": {
        "id": "D0FvFuvjcOYg",
        "colab": {
          "base_uri": "https://localhost:8080/"
        },
        "outputId": "81f9b0f5-33a3-4db5-844c-e63c261a6288"
      },
      "execution_count": null,
      "outputs": [
        {
          "output_type": "stream",
          "name": "stdout",
          "text": [
            "tensor(9.)\n"
          ]
        }
      ]
    }
  ]
}